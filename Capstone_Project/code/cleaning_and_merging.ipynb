{
 "cells": [
  {
   "cell_type": "markdown",
   "id": "65be1cf7-c321-4b1a-828f-8344bf7eb7cb",
   "metadata": {},
   "source": [
    "### This script cleans and merges the data from the tsv files. We subset movies between 2013 to 2023, and then merge them into a consolidated dataframe"
   ]
  },
  {
   "cell_type": "code",
   "execution_count": 1,
   "id": "74cc8f1e-f671-4fc8-a49a-68b1dc4400bd",
   "metadata": {},
   "outputs": [],
   "source": [
    "import pandas as pd\n",
    "import polars as pl\n",
    "import numpy as np\n",
    "import matplotlib.pyplot as plt\n",
    "import plotly.graph_objects as go\n",
    "import plotly.express as px\n",
    "import seaborn as sns\n",
    "import streamlit as st\n",
    "import missingno as msno\n",
    "import os\n",
    "import requests\n",
    "from bs4 import BeautifulSoup\n",
    "import random\n",
    "\n",
    "import sqlite3\n",
    "from sqlalchemy import create_engine, MetaData, Table\n",
    "\n",
    "from helper import *\n",
    "\n",
    "\n",
    "pd.set_option('display.max_rows',500)\n",
    "pd.set_option('display.max_columns', None)"
   ]
  },
  {
   "cell_type": "markdown",
   "id": "2e15a0d6-a164-400d-8065-dff21b3401b0",
   "metadata": {
    "jp-MarkdownHeadingCollapsed": true,
    "tags": []
   },
   "source": [
    "## Cleaning imdb raw files"
   ]
  },
  {
   "cell_type": "code",
   "execution_count": null,
   "id": "7196b31c-adff-4e9d-8b8c-b689ad7f1902",
   "metadata": {},
   "outputs": [],
   "source": [
    "\n",
    "name_basics = pd.read_csv('../data/name_basics_data.tsv')\n",
    "title_basics = pd.read_csv('../data/title_basics_data.tsv')\n",
    "title_crew = pd.read_csv('../data/title_crew_data.tsv')\n",
    "title_principals = pd.read_csv('../data/title_principals_data.tsv')\n",
    "title_ratings = pd.read_csv('../data/title_ratings_data.tsv')\n",
    "title_akas = pd.read_csv('../data/title_akas_data.tsv')\n",
    "\n",
    "\n",
    "\n",
    "print(f\"name_basics shape:{name_basics.shape}\")\n",
    "print(f\"title_basics shape:{title_basics.shape}\")\n",
    "print(f\"title_crew shape:{title_crew.shape}\")\n",
    "print(f\"title_principals shape:{title_principals.shape}\")\n",
    "print(f\"title_ratings shape:{title_ratings.shape}\")\n",
    "print(f\"title_akas shape:{title_akas.shape}\")"
   ]
  },
  {
   "cell_type": "code",
   "execution_count": null,
   "id": "f7eb6918-0cb1-4179-b66b-fc9bc3e1f819",
   "metadata": {},
   "outputs": [],
   "source": [
    "# title_basics = pd.read_csv('../data/title_basics_data.tsv', sep = '\\t', low_memory=False)\n",
    "\n",
    "title_basics.replace('\\\\N', np.nan, inplace=True)\n",
    "title_basics = title_basics.dropna(subset=['startYear'])\n",
    "title_basics['startYear'] = title_basics['startYear'].astype('int')\n",
    "title_basics = title_basics[(title_basics['titleType']=='movie') & (title_basics['startYear']>2013) & (title_basics['startYear']<2024)]"
   ]
  },
  {
   "cell_type": "code",
   "execution_count": null,
   "id": "ac44018c-5686-40f0-ae06-34b2c2a9ccc6",
   "metadata": {
    "canvas": {
     "comments": [],
     "componentType": "CodeCell",
     "copiedOriginId": null,
     "diskcache": false,
     "headerColor": "transparent",
     "id": "3cd7e960-ae67-495e-ab40-4bced8208ad7",
     "isComponent": false,
     "name": "",
     "parents": []
    },
    "tags": []
   },
   "outputs": [],
   "source": [
    "title_basics.head()"
   ]
  },
  {
   "cell_type": "code",
   "execution_count": null,
   "id": "4e242779-8a57-4c5e-b768-758e6439aace",
   "metadata": {
    "tags": []
   },
   "outputs": [],
   "source": [
    "display(title_basics.info())\n",
    "print(\"=\"*180)"
   ]
  },
  {
   "cell_type": "code",
   "execution_count": null,
   "id": "11cf8e0d-4ad4-47f3-ad8d-d5f79a7288fa",
   "metadata": {
    "canvas": {
     "comments": [],
     "componentType": "CodeCell",
     "copiedOriginId": null,
     "diskcache": false,
     "headerColor": "transparent",
     "id": "4a058e0c-2e89-4159-a10d-7003dc0fc29a",
     "isComponent": false,
     "name": "",
     "parents": []
    },
    "tags": []
   },
   "outputs": [],
   "source": [
    "title_crew.head()"
   ]
  },
  {
   "cell_type": "code",
   "execution_count": null,
   "id": "3428a204-2e1b-44e4-804e-a4a384cd8209",
   "metadata": {
    "tags": []
   },
   "outputs": [],
   "source": [
    "display(title_crew.info())\n",
    "print(\"=\"*180)"
   ]
  },
  {
   "cell_type": "code",
   "execution_count": null,
   "id": "842063bb-09fc-4ecb-9022-1a0ddd086af2",
   "metadata": {
    "canvas": {
     "comments": [],
     "componentType": "CodeCell",
     "copiedOriginId": null,
     "diskcache": false,
     "headerColor": "transparent",
     "id": "46dade9d-b948-4185-9174-080aa5901458",
     "isComponent": false,
     "name": "",
     "parents": []
    },
    "tags": []
   },
   "outputs": [],
   "source": [
    "title_principals.head()"
   ]
  },
  {
   "cell_type": "code",
   "execution_count": null,
   "id": "a6286823-0ef3-44f7-87fb-daac680bc5bf",
   "metadata": {
    "tags": []
   },
   "outputs": [],
   "source": [
    "display(title_principals.info())\n",
    "print(\"=\"*180)"
   ]
  },
  {
   "cell_type": "code",
   "execution_count": null,
   "id": "65ee86f6-9f28-44d5-84e0-8481c9adf28a",
   "metadata": {
    "canvas": {
     "comments": [],
     "componentType": "CodeCell",
     "copiedOriginId": null,
     "diskcache": false,
     "headerColor": "transparent",
     "id": "e03870e3-1a5d-48bc-9aa6-ec3de472d624",
     "isComponent": false,
     "name": "",
     "parents": []
    },
    "tags": []
   },
   "outputs": [],
   "source": [
    "title_ratings.head()"
   ]
  },
  {
   "cell_type": "code",
   "execution_count": null,
   "id": "1c18fe8f-03b3-48bb-b2e9-7df245afbf49",
   "metadata": {
    "tags": []
   },
   "outputs": [],
   "source": [
    "display(title_ratings.info())\n",
    "print(\"=\"*180)"
   ]
  },
  {
   "cell_type": "code",
   "execution_count": null,
   "id": "74435033-7071-49d3-9c11-72967d48dc47",
   "metadata": {
    "canvas": {
     "comments": [],
     "componentType": "CodeCell",
     "copiedOriginId": null,
     "diskcache": false,
     "headerColor": "transparent",
     "id": "ba821c04-c06f-43f8-98aa-7b35afa048b7",
     "isComponent": false,
     "name": "",
     "parents": []
    },
    "tags": []
   },
   "outputs": [],
   "source": [
    "name_basics.head()"
   ]
  },
  {
   "cell_type": "code",
   "execution_count": null,
   "id": "df7e9bc0-49e8-4bf4-b013-85b7e13e5785",
   "metadata": {
    "tags": []
   },
   "outputs": [],
   "source": [
    "display(name_basics.info())\n",
    "print(\"=\"*180)"
   ]
  },
  {
   "cell_type": "code",
   "execution_count": null,
   "id": "a0058a1f-82a3-4fe6-8897-181d74a78b57",
   "metadata": {
    "tags": []
   },
   "outputs": [],
   "source": [
    "title_akas.head()"
   ]
  },
  {
   "cell_type": "code",
   "execution_count": null,
   "id": "452cbcc7-6eb9-49ab-beb2-2c6879e41839",
   "metadata": {
    "tags": []
   },
   "outputs": [],
   "source": [
    "display(title_akas.info())\n",
    "print(\"=\"*180)"
   ]
  },
  {
   "cell_type": "markdown",
   "id": "fdcd86e8-01b9-424e-bada-9044608d271e",
   "metadata": {
    "tags": []
   },
   "source": [
    "#### Some preliminary exploration and cleaning of each datatable first before we inject them into a database"
   ]
  },
  {
   "cell_type": "markdown",
   "id": "7c2413f0-47dc-4b40-b951-161be90ea902",
   "metadata": {},
   "source": [
    "1. title_basics"
   ]
  },
  {
   "cell_type": "code",
   "execution_count": null,
   "id": "102f7840-e83c-46bf-a908-856595aa60b1",
   "metadata": {
    "tags": []
   },
   "outputs": [],
   "source": [
    "# dropping rows with no genres\n",
    "\n",
    "title_basics['startYear'] = title_basics['startYear'].astype('int')\n",
    "title_basics['runtimeMinutes'] = title_basics['runtimeMinutes'].astype('float')\n",
    "\n",
    "title_basics_gb = title_basics.groupby('startYear')['runtimeMinutes'].mean()\n",
    "\n",
    "#Imputing runtimeMinutes na values with the mean of movies in the same year\n",
    "for index, row in title_basics.iterrows():\n",
    "    start_year = row['startYear']\n",
    "    if pd.isnull(row['runtimeMinutes']):\n",
    "        title_basics.loc[index, 'runtimeMinutes'] = title_basics_gb[start_year]\n",
    "\n",
    "        \n",
    "#Dropping endYear column\n",
    "title_basics = title_basics.drop(columns=['endYear'], axis='columns')\n",
    "\n",
    "#Dropping rows with no genres values\n",
    "title_basics = title_basics.dropna(subset=['genres'])\n",
    "\n",
    "print(title_basics.shape)\n",
    "\n",
    "title_basics.to_csv('../data/title_basics_cleaned.csv')"
   ]
  },
  {
   "cell_type": "markdown",
   "id": "e0c00bb1-1ad8-4a53-8519-86d5c02e192e",
   "metadata": {},
   "source": [
    "2. title_principals"
   ]
  },
  {
   "cell_type": "code",
   "execution_count": null,
   "id": "ff210eb6-e6cc-47c9-9b94-55fbcfa59d5b",
   "metadata": {
    "tags": []
   },
   "outputs": [],
   "source": [
    "#Dropping ordering column as it wont be required, since we are concatenating the other columns sequentially\n",
    "title_principals = title_principals.drop(columns=['ordering'])\n",
    "\n",
    "#Converting all columns to string\n",
    "title_principals[['nconst', 'category', 'job', 'characters']] = title_principals[['nconst', 'category', 'job', 'characters']].astype('string')\n",
    "\n",
    "#Removing brackets off characters column\n",
    "title_principals['characters'] = title_principals['characters'].replace('[', '').replace(']','')\n",
    "\n",
    "\n",
    "#Concatenating nconst, category, job and characters with \";\"\n",
    "title_principals = title_principals.groupby('tconst').agg(lambda x: ';'.join(x))\n",
    "\n",
    "\n",
    "\n",
    "title_principals.to_csv('../data/title_principals_cleaned.csv')"
   ]
  },
  {
   "cell_type": "markdown",
   "id": "55dd82b1-f9df-46b0-b923-52d8575105fd",
   "metadata": {},
   "source": [
    "3. title_crew"
   ]
  },
  {
   "cell_type": "code",
   "execution_count": null,
   "id": "08b1ef7e-2537-4565-a3ab-975c2d07bc3b",
   "metadata": {
    "tags": []
   },
   "outputs": [],
   "source": [
    "title_crew.to_csv('../data/title_crew_cleaned.csv')"
   ]
  },
  {
   "cell_type": "markdown",
   "id": "c7a02b85-5584-43ad-ae5c-3414079e9cdb",
   "metadata": {},
   "source": [
    "4. title_ratings"
   ]
  },
  {
   "cell_type": "code",
   "execution_count": null,
   "id": "92148f2d-0879-42cd-97a8-673e8ab7e12e",
   "metadata": {
    "tags": []
   },
   "outputs": [],
   "source": [
    "title_ratings.to_csv('../data/title_ratings_cleaned.csv')"
   ]
  },
  {
   "cell_type": "markdown",
   "id": "bb860da5-0b54-4800-a48a-fab34de5da70",
   "metadata": {},
   "source": [
    "5. title_akas"
   ]
  },
  {
   "cell_type": "code",
   "execution_count": null,
   "id": "4d5c1b8a-46c1-4e0b-8bf1-fe8427c64940",
   "metadata": {
    "tags": []
   },
   "outputs": [],
   "source": [
    "# Counting the number of regions for each titleId\n",
    "region_count = title_akas.groupby('titleId')['region'].count().reset_index().rename(columns={'region':'region_count'})\n",
    "\n",
    "# Merging the original dataframe with the region count\n",
    "title_akas_cleaned= title_akas.merge(region_count, on='titleId', how='left')\n",
    "\n",
    "title_akas_cleaned = title_akas_cleaned[title_akas_cleaned['isOriginalTitle']=='1']\n",
    "title_akas_cleaned = title_akas_cleaned.drop(columns=['ordering','region','language','isOriginalTitle','types','attributes'])\n",
    "title_akas_cleaned.to_csv('../data/title_akas_cleaned.csv')"
   ]
  },
  {
   "cell_type": "markdown",
   "id": "069295a3-c842-4c5a-9975-86066013f843",
   "metadata": {},
   "source": [
    "6. name_basics"
   ]
  },
  {
   "cell_type": "code",
   "execution_count": null,
   "id": "691d4eda-d19a-460d-abfb-a428f2b0182a",
   "metadata": {
    "tags": []
   },
   "outputs": [],
   "source": [
    "name_basics = pd.read_csv('../data/name_basics_data.tsv', sep = '\\t', low_memory=False)\n",
    "\n",
    "name_basics = name_basics.replace('\\\\N',np.nan)\n",
    "\n",
    "name_basics2 = name_basics.drop(columns=['birthYear','deathYear'])\n",
    "name_basics3 = name_basics2.dropna(subset=['primaryName'])"
   ]
  },
  {
   "cell_type": "code",
   "execution_count": null,
   "id": "4acd26a4-fb06-4012-bbf4-ecd85b34f417",
   "metadata": {
    "tags": []
   },
   "outputs": [],
   "source": [
    "\n",
    "name_basics3.to_csv('../data/name_basics_cleaned.csv')"
   ]
  },
  {
   "cell_type": "code",
   "execution_count": null,
   "id": "89124d99-3c99-4c2c-91f6-688941151f1e",
   "metadata": {},
   "outputs": [],
   "source": [
    "#Reloading dataframes\n",
    "\n",
    "name_basics = pd.read_csv('../data/name_basics_cleaned.csv').drop('Unnamed: 0', axis=1)\n",
    "title_basics = pd.read_csv('../data/title_basics_cleaned.csv').drop('Unnamed: 0', axis=1)\n",
    "title_crew = pd.read_csv('../data/title_crew_cleaned.csv').drop('Unnamed: 0', axis=1)\n",
    "title_principals = pd.read_csv('../data/title_principals_cleaned.csv')\n",
    "title_ratings = pd.read_csv('../data/title_ratings_cleaned.csv').drop('Unnamed: 0', axis=1)\n",
    "title_akas = pd.read_csv('../data/title_akas_cleaned.csv').drop('Unnamed: 0', axis=1)"
   ]
  },
  {
   "cell_type": "code",
   "execution_count": null,
   "id": "e97f1253-90d4-4cd6-8943-27d97d3b301b",
   "metadata": {},
   "outputs": [],
   "source": [
    "df = pd.merge(left=title_basics, right=title_principals, how='left', on='tconst', sort=True)\n",
    "df = pd.merge(left=df, right=title_crew, how='left', on='tconst', sort=True)\n",
    "df = pd.merge(left=df, right=title_ratings, how='left', on='tconst', sort=True)\n",
    "df = pd.merge(left=df, right=title_akas, how='left', left_on='tconst', right_on='titleId', sort=True)\n",
    "df = pd.merge(left=df, right=revenue, on='tconst',sort=True)\n",
    "df = pd.merge(left=df, right=ratings, on='tconst')\n"
   ]
  },
  {
   "cell_type": "code",
   "execution_count": null,
   "id": "2aa5aaa4-cd40-4827-83a5-c987a43c7107",
   "metadata": {},
   "outputs": [],
   "source": [
    "df.to_csv('../data/movies2013-2023.csv')"
   ]
  },
  {
   "cell_type": "markdown",
   "id": "1549c2ab-4c06-4bb4-b3f0-6f6f95b6f78c",
   "metadata": {},
   "source": [
    "## Cleaning ratings raw inputs"
   ]
  },
  {
   "cell_type": "code",
   "execution_count": null,
   "id": "6b9bddaa-dabd-4f6a-863d-6940746a9f84",
   "metadata": {},
   "outputs": [],
   "source": [
    "#Expanding df_ratings"
   ]
  },
  {
   "cell_type": "code",
   "execution_count": 2,
   "id": "70bf3536-750a-4695-8d7d-120ae7162abf",
   "metadata": {
    "collapsed": true,
    "jupyter": {
     "outputs_hidden": true
    },
    "tags": []
   },
   "outputs": [
    {
     "data": {
      "text/html": [
       "<div>\n",
       "<style scoped>\n",
       "    .dataframe tbody tr th:only-of-type {\n",
       "        vertical-align: middle;\n",
       "    }\n",
       "\n",
       "    .dataframe tbody tr th {\n",
       "        vertical-align: top;\n",
       "    }\n",
       "\n",
       "    .dataframe thead th {\n",
       "        text-align: right;\n",
       "    }\n",
       "</style>\n",
       "<table border=\"1\" class=\"dataframe\">\n",
       "  <thead>\n",
       "    <tr style=\"text-align: right;\">\n",
       "      <th></th>\n",
       "      <th>tconst</th>\n",
       "      <th>ratings</th>\n",
       "    </tr>\n",
       "  </thead>\n",
       "  <tbody>\n",
       "    <tr>\n",
       "      <th>3</th>\n",
       "      <td>tt0069049</td>\n",
       "      <td>[('ur0011762', '7'), ('ur3564718', '8'), ('ur0...</td>\n",
       "    </tr>\n",
       "    <tr>\n",
       "      <th>8</th>\n",
       "      <td>tt0109128</td>\n",
       "      <td>[('ur0808507', '9')]</td>\n",
       "    </tr>\n",
       "    <tr>\n",
       "      <th>13</th>\n",
       "      <td>tt0120589</td>\n",
       "      <td>[('ur34226907', '8')]</td>\n",
       "    </tr>\n",
       "    <tr>\n",
       "      <th>14</th>\n",
       "      <td>tt0137204</td>\n",
       "      <td>[('ur3942202', '9'), ('ur85067217', '9')]</td>\n",
       "    </tr>\n",
       "    <tr>\n",
       "      <th>15</th>\n",
       "      <td>tt0137818</td>\n",
       "      <td>[('ur128765215', '1')]</td>\n",
       "    </tr>\n",
       "    <tr>\n",
       "      <th>...</th>\n",
       "      <td>...</td>\n",
       "      <td>...</td>\n",
       "    </tr>\n",
       "    <tr>\n",
       "      <th>174583</th>\n",
       "      <td>tt9914972</td>\n",
       "      <td>[('ur132041895', '8')]</td>\n",
       "    </tr>\n",
       "    <tr>\n",
       "      <th>174591</th>\n",
       "      <td>tt9916190</td>\n",
       "      <td>[('ur126320906', '8'), ('ur126352070', '6'), (...</td>\n",
       "    </tr>\n",
       "    <tr>\n",
       "      <th>174592</th>\n",
       "      <td>tt9916270</td>\n",
       "      <td>[('ur93886624', '6'), ('ur24536688', '6'), ('u...</td>\n",
       "    </tr>\n",
       "    <tr>\n",
       "      <th>174593</th>\n",
       "      <td>tt9916362</td>\n",
       "      <td>[('ur82872124', '9'), ('ur126952560', '9'), ('...</td>\n",
       "    </tr>\n",
       "    <tr>\n",
       "      <th>174594</th>\n",
       "      <td>tt9916428</td>\n",
       "      <td>[('ur22484170', '8')]</td>\n",
       "    </tr>\n",
       "  </tbody>\n",
       "</table>\n",
       "<p>44073 rows × 2 columns</p>\n",
       "</div>"
      ],
      "text/plain": [
       "           tconst                                            ratings\n",
       "3       tt0069049  [('ur0011762', '7'), ('ur3564718', '8'), ('ur0...\n",
       "8       tt0109128                               [('ur0808507', '9')]\n",
       "13      tt0120589                              [('ur34226907', '8')]\n",
       "14      tt0137204          [('ur3942202', '9'), ('ur85067217', '9')]\n",
       "15      tt0137818                             [('ur128765215', '1')]\n",
       "...           ...                                                ...\n",
       "174583  tt9914972                             [('ur132041895', '8')]\n",
       "174591  tt9916190  [('ur126320906', '8'), ('ur126352070', '6'), (...\n",
       "174592  tt9916270  [('ur93886624', '6'), ('ur24536688', '6'), ('u...\n",
       "174593  tt9916362  [('ur82872124', '9'), ('ur126952560', '9'), ('...\n",
       "174594  tt9916428                              [('ur22484170', '8')]\n",
       "\n",
       "[44073 rows x 2 columns]"
      ]
     },
     "execution_count": 2,
     "metadata": {},
     "output_type": "execute_result"
    }
   ],
   "source": [
    "ratings = pd.read_csv('../data/df_ratings.csv')\n",
    "ratings = ratings[ratings['ratings']!='[]']\n",
    "\n",
    "ratings"
   ]
  },
  {
   "cell_type": "code",
   "execution_count": null,
   "id": "64c7c435-665d-49cd-943d-84ca9043afbd",
   "metadata": {
    "tags": []
   },
   "outputs": [],
   "source": [
    "ratings['ratings'].isna().sum()"
   ]
  },
  {
   "cell_type": "code",
   "execution_count": null,
   "id": "77ad1c07-02ad-4313-b121-ff5aecd17503",
   "metadata": {
    "tags": []
   },
   "outputs": [],
   "source": [
    "import ast\n",
    "ratings['ratings'] = ratings['ratings'].apply(ast.literal_eval)\n",
    "ratings['ratings'] = ratings['ratings'].tolist()"
   ]
  },
  {
   "cell_type": "code",
   "execution_count": null,
   "id": "bc5b0820-69a8-4618-869d-982150aed79a",
   "metadata": {
    "tags": []
   },
   "outputs": [],
   "source": [
    "ratings"
   ]
  },
  {
   "cell_type": "code",
   "execution_count": null,
   "id": "2d907044-9797-49ca-875a-8565c9abe66d",
   "metadata": {
    "tags": []
   },
   "outputs": [],
   "source": [
    "import warnings\n",
    "warnings.simplefilter(\"ignore\")"
   ]
  },
  {
   "cell_type": "code",
   "execution_count": null,
   "id": "52b8c709-9490-46ac-90da-f28154d04715",
   "metadata": {
    "tags": []
   },
   "outputs": [],
   "source": [
    "for index, ratings_list in ratings['ratings'].iteritems():\n",
    "    for user_id, rating in ratings_list:\n",
    "        ratings.loc[index, user_id] = rating"
   ]
  },
  {
   "cell_type": "code",
   "execution_count": null,
   "id": "66f16c24-851d-43dd-aebd-015a4327f02d",
   "metadata": {
    "tags": []
   },
   "outputs": [],
   "source": [
    "ratings.drop(columns = ['ratings'],inplace=True)"
   ]
  },
  {
   "cell_type": "code",
   "execution_count": null,
   "id": "b1584efa-ac0e-47a0-82a6-b740d2349c4a",
   "metadata": {
    "tags": []
   },
   "outputs": [],
   "source": [
    "import numpy as np\n",
    "from scipy.sparse import csr_matrix\n",
    "import scipy.sparse as sp\n",
    "\n",
    "\n",
    "\n",
    "\n",
    "ratings.to_parquet('../data/df_ratings_expanded.parquet')"
   ]
  },
  {
   "cell_type": "markdown",
   "id": "08087e60-aa2f-481b-8e68-8ede369df669",
   "metadata": {},
   "source": [
    "## Cleaning ratings2"
   ]
  },
  {
   "cell_type": "code",
   "execution_count": 9,
   "id": "50dbf301-f425-4f03-9f87-1a4b76f57e0e",
   "metadata": {
    "tags": []
   },
   "outputs": [],
   "source": [
    "ratings = pd.read_parquet('../data/df_ratings_expanded.parquet').reset_index()\n",
    "ratings2 = pd.read_csv('../data/df_ratings2.csv')"
   ]
  },
  {
   "cell_type": "code",
   "execution_count": 10,
   "id": "b53798cc-3f85-4b17-901d-83784aed4490",
   "metadata": {
    "tags": []
   },
   "outputs": [],
   "source": [
    "ratings2['ratings']=ratings2['ratings'].replace(0, 'NIL')\n",
    "ratings2['ratings']=ratings2['ratings'].replace('0', 'NIL')\n",
    "ratings2['ratings']=ratings2['ratings'].fillna('NIL')\n",
    "ratings2['ratings'] = ratings2['ratings'].astype('string')"
   ]
  },
  {
   "cell_type": "code",
   "execution_count": 11,
   "id": "6f910977-456c-4807-8a42-184c6ee16296",
   "metadata": {
    "collapsed": true,
    "jupyter": {
     "outputs_hidden": true
    },
    "tags": []
   },
   "outputs": [
    {
     "ename": "KeyboardInterrupt",
     "evalue": "",
     "output_type": "error",
     "traceback": [
      "\u001b[1;31m---------------------------------------------------------------------------\u001b[0m",
      "\u001b[1;31mKeyboardInterrupt\u001b[0m                         Traceback (most recent call last)",
      "Cell \u001b[1;32mIn[11], line 2\u001b[0m\n\u001b[0;32m      1\u001b[0m ratings \u001b[38;5;241m=\u001b[39m ratings\u001b[38;5;241m.\u001b[39mset_index(\u001b[38;5;124m'\u001b[39m\u001b[38;5;124mtconst\u001b[39m\u001b[38;5;124m'\u001b[39m)\n\u001b[1;32m----> 2\u001b[0m missing_values_before \u001b[38;5;241m=\u001b[39m \u001b[43mratings\u001b[49m\u001b[38;5;241;43m.\u001b[39;49m\u001b[43misna\u001b[49m\u001b[43m(\u001b[49m\u001b[43m)\u001b[49m\u001b[38;5;241m.\u001b[39msum()\u001b[38;5;241m.\u001b[39msum()\n\u001b[0;32m      3\u001b[0m \u001b[38;5;28mprint\u001b[39m(\u001b[38;5;124mf\u001b[39m\u001b[38;5;124m\"\u001b[39m\u001b[38;5;124mNumber of missing values in ratings:\u001b[39m\u001b[38;5;132;01m{\u001b[39;00mmissing_values_before\u001b[38;5;132;01m}\u001b[39;00m\u001b[38;5;124m\"\u001b[39m)\n",
      "File \u001b[1;32m~\\anaconda3\\lib\\site-packages\\pandas\\core\\frame.py:6379\u001b[0m, in \u001b[0;36mDataFrame.isna\u001b[1;34m(self)\u001b[0m\n\u001b[0;32m   6377\u001b[0m \u001b[38;5;129m@doc\u001b[39m(NDFrame\u001b[38;5;241m.\u001b[39misna, klass\u001b[38;5;241m=\u001b[39m_shared_doc_kwargs[\u001b[38;5;124m\"\u001b[39m\u001b[38;5;124mklass\u001b[39m\u001b[38;5;124m\"\u001b[39m])\n\u001b[0;32m   6378\u001b[0m \u001b[38;5;28;01mdef\u001b[39;00m \u001b[38;5;21misna\u001b[39m(\u001b[38;5;28mself\u001b[39m) \u001b[38;5;241m-\u001b[39m\u001b[38;5;241m>\u001b[39m DataFrame:\n\u001b[1;32m-> 6379\u001b[0m     result \u001b[38;5;241m=\u001b[39m \u001b[38;5;28mself\u001b[39m\u001b[38;5;241m.\u001b[39m_constructor(\u001b[38;5;28;43mself\u001b[39;49m\u001b[38;5;241;43m.\u001b[39;49m\u001b[43m_mgr\u001b[49m\u001b[38;5;241;43m.\u001b[39;49m\u001b[43misna\u001b[49m\u001b[43m(\u001b[49m\u001b[43mfunc\u001b[49m\u001b[38;5;241;43m=\u001b[39;49m\u001b[43misna\u001b[49m\u001b[43m)\u001b[49m)\n\u001b[0;32m   6380\u001b[0m     \u001b[38;5;28;01mreturn\u001b[39;00m result\u001b[38;5;241m.\u001b[39m__finalize__(\u001b[38;5;28mself\u001b[39m, method\u001b[38;5;241m=\u001b[39m\u001b[38;5;124m\"\u001b[39m\u001b[38;5;124misna\u001b[39m\u001b[38;5;124m\"\u001b[39m)\n",
      "File \u001b[1;32m~\\anaconda3\\lib\\site-packages\\pandas\\core\\internals\\base.py:143\u001b[0m, in \u001b[0;36mDataManager.isna\u001b[1;34m(self, func)\u001b[0m\n\u001b[0;32m    141\u001b[0m \u001b[38;5;129m@final\u001b[39m\n\u001b[0;32m    142\u001b[0m \u001b[38;5;28;01mdef\u001b[39;00m \u001b[38;5;21misna\u001b[39m(\u001b[38;5;28mself\u001b[39m: T, func) \u001b[38;5;241m-\u001b[39m\u001b[38;5;241m>\u001b[39m T:\n\u001b[1;32m--> 143\u001b[0m     \u001b[38;5;28;01mreturn\u001b[39;00m \u001b[38;5;28;43mself\u001b[39;49m\u001b[38;5;241;43m.\u001b[39;49m\u001b[43mapply\u001b[49m\u001b[43m(\u001b[49m\u001b[38;5;124;43m\"\u001b[39;49m\u001b[38;5;124;43mapply\u001b[39;49m\u001b[38;5;124;43m\"\u001b[39;49m\u001b[43m,\u001b[49m\u001b[43m \u001b[49m\u001b[43mfunc\u001b[49m\u001b[38;5;241;43m=\u001b[39;49m\u001b[43mfunc\u001b[49m\u001b[43m)\u001b[49m\n",
      "File \u001b[1;32m~\\anaconda3\\lib\\site-packages\\pandas\\core\\internals\\managers.py:352\u001b[0m, in \u001b[0;36mBaseBlockManager.apply\u001b[1;34m(self, f, align_keys, ignore_failures, **kwargs)\u001b[0m\n\u001b[0;32m    350\u001b[0m         applied \u001b[38;5;241m=\u001b[39m b\u001b[38;5;241m.\u001b[39mapply(f, \u001b[38;5;241m*\u001b[39m\u001b[38;5;241m*\u001b[39mkwargs)\n\u001b[0;32m    351\u001b[0m     \u001b[38;5;28;01melse\u001b[39;00m:\n\u001b[1;32m--> 352\u001b[0m         applied \u001b[38;5;241m=\u001b[39m \u001b[38;5;28mgetattr\u001b[39m(b, f)(\u001b[38;5;241m*\u001b[39m\u001b[38;5;241m*\u001b[39mkwargs)\n\u001b[0;32m    353\u001b[0m \u001b[38;5;28;01mexcept\u001b[39;00m (\u001b[38;5;167;01mTypeError\u001b[39;00m, \u001b[38;5;167;01mNotImplementedError\u001b[39;00m):\n\u001b[0;32m    354\u001b[0m     \u001b[38;5;28;01mif\u001b[39;00m \u001b[38;5;129;01mnot\u001b[39;00m ignore_failures:\n",
      "File \u001b[1;32m~\\anaconda3\\lib\\site-packages\\pandas\\core\\internals\\blocks.py:351\u001b[0m, in \u001b[0;36mBlock.apply\u001b[1;34m(self, func, **kwargs)\u001b[0m\n\u001b[0;32m    345\u001b[0m \u001b[38;5;129m@final\u001b[39m\n\u001b[0;32m    346\u001b[0m \u001b[38;5;28;01mdef\u001b[39;00m \u001b[38;5;21mapply\u001b[39m(\u001b[38;5;28mself\u001b[39m, func, \u001b[38;5;241m*\u001b[39m\u001b[38;5;241m*\u001b[39mkwargs) \u001b[38;5;241m-\u001b[39m\u001b[38;5;241m>\u001b[39m \u001b[38;5;28mlist\u001b[39m[Block]:\n\u001b[0;32m    347\u001b[0m \u001b[38;5;250m    \u001b[39m\u001b[38;5;124;03m\"\"\"\u001b[39;00m\n\u001b[0;32m    348\u001b[0m \u001b[38;5;124;03m    apply the function to my values; return a block if we are not\u001b[39;00m\n\u001b[0;32m    349\u001b[0m \u001b[38;5;124;03m    one\u001b[39;00m\n\u001b[0;32m    350\u001b[0m \u001b[38;5;124;03m    \"\"\"\u001b[39;00m\n\u001b[1;32m--> 351\u001b[0m     result \u001b[38;5;241m=\u001b[39m func(\u001b[38;5;28mself\u001b[39m\u001b[38;5;241m.\u001b[39mvalues, \u001b[38;5;241m*\u001b[39m\u001b[38;5;241m*\u001b[39mkwargs)\n\u001b[0;32m    353\u001b[0m     \u001b[38;5;28;01mreturn\u001b[39;00m \u001b[38;5;28mself\u001b[39m\u001b[38;5;241m.\u001b[39m_split_op_result(result)\n",
      "File \u001b[1;32m~\\anaconda3\\lib\\site-packages\\pandas\\core\\dtypes\\missing.py:185\u001b[0m, in \u001b[0;36misna\u001b[1;34m(obj)\u001b[0m\n\u001b[0;32m    108\u001b[0m \u001b[38;5;28;01mdef\u001b[39;00m \u001b[38;5;21misna\u001b[39m(obj: \u001b[38;5;28mobject\u001b[39m) \u001b[38;5;241m-\u001b[39m\u001b[38;5;241m>\u001b[39m \u001b[38;5;28mbool\u001b[39m \u001b[38;5;241m|\u001b[39m npt\u001b[38;5;241m.\u001b[39mNDArray[np\u001b[38;5;241m.\u001b[39mbool_] \u001b[38;5;241m|\u001b[39m NDFrame:\n\u001b[0;32m    109\u001b[0m \u001b[38;5;250m    \u001b[39m\u001b[38;5;124;03m\"\"\"\u001b[39;00m\n\u001b[0;32m    110\u001b[0m \u001b[38;5;124;03m    Detect missing values for an array-like object.\u001b[39;00m\n\u001b[0;32m    111\u001b[0m \n\u001b[1;32m   (...)\u001b[0m\n\u001b[0;32m    183\u001b[0m \u001b[38;5;124;03m    Name: 1, dtype: bool\u001b[39;00m\n\u001b[0;32m    184\u001b[0m \u001b[38;5;124;03m    \"\"\"\u001b[39;00m\n\u001b[1;32m--> 185\u001b[0m     \u001b[38;5;28;01mreturn\u001b[39;00m \u001b[43m_isna\u001b[49m\u001b[43m(\u001b[49m\u001b[43mobj\u001b[49m\u001b[43m)\u001b[49m\n",
      "File \u001b[1;32m~\\anaconda3\\lib\\site-packages\\pandas\\core\\dtypes\\missing.py:214\u001b[0m, in \u001b[0;36m_isna\u001b[1;34m(obj, inf_as_na)\u001b[0m\n\u001b[0;32m    212\u001b[0m     \u001b[38;5;28;01mreturn\u001b[39;00m \u001b[38;5;28;01mFalse\u001b[39;00m\n\u001b[0;32m    213\u001b[0m \u001b[38;5;28;01melif\u001b[39;00m \u001b[38;5;28misinstance\u001b[39m(obj, (np\u001b[38;5;241m.\u001b[39mndarray, ABCExtensionArray)):\n\u001b[1;32m--> 214\u001b[0m     \u001b[38;5;28;01mreturn\u001b[39;00m \u001b[43m_isna_array\u001b[49m\u001b[43m(\u001b[49m\u001b[43mobj\u001b[49m\u001b[43m,\u001b[49m\u001b[43m \u001b[49m\u001b[43minf_as_na\u001b[49m\u001b[38;5;241;43m=\u001b[39;49m\u001b[43minf_as_na\u001b[49m\u001b[43m)\u001b[49m\n\u001b[0;32m    215\u001b[0m \u001b[38;5;28;01melif\u001b[39;00m \u001b[38;5;28misinstance\u001b[39m(obj, ABCIndex):\n\u001b[0;32m    216\u001b[0m     \u001b[38;5;66;03m# Try to use cached isna, which also short-circuits for integer dtypes\u001b[39;00m\n\u001b[0;32m    217\u001b[0m     \u001b[38;5;66;03m#  and avoids materializing RangeIndex._values\u001b[39;00m\n\u001b[0;32m    218\u001b[0m     \u001b[38;5;28;01mif\u001b[39;00m \u001b[38;5;129;01mnot\u001b[39;00m obj\u001b[38;5;241m.\u001b[39m_can_hold_na:\n",
      "File \u001b[1;32m~\\anaconda3\\lib\\site-packages\\pandas\\core\\dtypes\\missing.py:296\u001b[0m, in \u001b[0;36m_isna_array\u001b[1;34m(values, inf_as_na)\u001b[0m\n\u001b[0;32m    294\u001b[0m         result \u001b[38;5;241m=\u001b[39m values\u001b[38;5;241m.\u001b[39misna()  \u001b[38;5;66;03m# type: ignore[assignment]\u001b[39;00m\n\u001b[0;32m    295\u001b[0m \u001b[38;5;28;01melif\u001b[39;00m is_string_or_object_np_dtype(values\u001b[38;5;241m.\u001b[39mdtype):\n\u001b[1;32m--> 296\u001b[0m     result \u001b[38;5;241m=\u001b[39m \u001b[43m_isna_string_dtype\u001b[49m\u001b[43m(\u001b[49m\u001b[43mvalues\u001b[49m\u001b[43m,\u001b[49m\u001b[43m \u001b[49m\u001b[43minf_as_na\u001b[49m\u001b[38;5;241;43m=\u001b[39;49m\u001b[43minf_as_na\u001b[49m\u001b[43m)\u001b[49m\n\u001b[0;32m    297\u001b[0m \u001b[38;5;28;01melif\u001b[39;00m needs_i8_conversion(dtype):\n\u001b[0;32m    298\u001b[0m     \u001b[38;5;66;03m# this is the NaT pattern\u001b[39;00m\n\u001b[0;32m    299\u001b[0m     result \u001b[38;5;241m=\u001b[39m values\u001b[38;5;241m.\u001b[39mview(\u001b[38;5;124m\"\u001b[39m\u001b[38;5;124mi8\u001b[39m\u001b[38;5;124m\"\u001b[39m) \u001b[38;5;241m==\u001b[39m iNaT\n",
      "File \u001b[1;32m~\\anaconda3\\lib\\site-packages\\pandas\\core\\dtypes\\missing.py:320\u001b[0m, in \u001b[0;36m_isna_string_dtype\u001b[1;34m(values, inf_as_na)\u001b[0m\n\u001b[0;32m    318\u001b[0m     result \u001b[38;5;241m=\u001b[39m libmissing\u001b[38;5;241m.\u001b[39misnaobj(values, inf_as_na\u001b[38;5;241m=\u001b[39minf_as_na)\n\u001b[0;32m    319\u001b[0m \u001b[38;5;28;01melif\u001b[39;00m values\u001b[38;5;241m.\u001b[39mndim \u001b[38;5;241m==\u001b[39m \u001b[38;5;241m2\u001b[39m:\n\u001b[1;32m--> 320\u001b[0m     result \u001b[38;5;241m=\u001b[39m \u001b[43mlibmissing\u001b[49m\u001b[38;5;241;43m.\u001b[39;49m\u001b[43misnaobj2d\u001b[49m\u001b[43m(\u001b[49m\u001b[43mvalues\u001b[49m\u001b[43m,\u001b[49m\u001b[43m \u001b[49m\u001b[43minf_as_na\u001b[49m\u001b[38;5;241;43m=\u001b[39;49m\u001b[43minf_as_na\u001b[49m\u001b[43m)\u001b[49m\n\u001b[0;32m    321\u001b[0m \u001b[38;5;28;01melse\u001b[39;00m:\n\u001b[0;32m    322\u001b[0m     \u001b[38;5;66;03m# 0-D, reached via e.g. mask_missing\u001b[39;00m\n\u001b[0;32m    323\u001b[0m     result \u001b[38;5;241m=\u001b[39m libmissing\u001b[38;5;241m.\u001b[39misnaobj(values\u001b[38;5;241m.\u001b[39mravel(), inf_as_na\u001b[38;5;241m=\u001b[39minf_as_na)\n",
      "\u001b[1;31mKeyboardInterrupt\u001b[0m: "
     ]
    }
   ],
   "source": [
    "ratings = ratings.set_index('tconst')\n",
    "missing_values_before = ratings.isna().sum().sum()\n",
    "print(f\"Number of missing values in ratings:{missing_values_before}\")\n"
   ]
  },
  {
   "cell_type": "code",
   "execution_count": null,
   "id": "6681154c-f94b-480e-8d72-724360139f9a",
   "metadata": {
    "tags": []
   },
   "outputs": [],
   "source": [
    "for ind, item in ratings2.iterrows():\n",
    "    if item['ratings'] != 'NIL':\n",
    "        user_id = item['user_id']\n",
    "        ratings_list = ast.literal_eval(item['ratings'])\n",
    "        print(f\"Current index: {ind} out of {len(ratings2)}\")\n",
    "\n",
    "        for movie, rating in ratings_list:\n",
    "            if (movie in ratings.index) and (user_id in ratings.columns):\n",
    "                ratings.loc[movie,user_id] = rating\n",
    "                print(f\"Assigned movie: {movie}, user:{user_id}, rating:{ratings.loc[movie,user_id]}\")\n",
    "\n",
    "        print(\"=\"*80)"
   ]
  },
  {
   "cell_type": "code",
   "execution_count": null,
   "id": "a8fc6c03-aab7-4192-a87f-3078fbc487f6",
   "metadata": {
    "tags": []
   },
   "outputs": [],
   "source": [
    "missing_values_after = ratings.isna().sum().sum()\n",
    "print(f\"Number of missing values in ratings:{missing_values_after}\")\n",
    "print(f\"Difference:{missing_values_before - missing_values_after}\")"
   ]
  },
  {
   "cell_type": "code",
   "execution_count": null,
   "id": "25b71598-7648-4d2d-96e4-adaa6fa0baab",
   "metadata": {},
   "outputs": [],
   "source": [
    "ratings.to_parquet('../data/df_ratings_expanded.parquet')"
   ]
  },
  {
   "cell_type": "code",
   "execution_count": null,
   "id": "5d7c6ab6-3eff-4c8e-a863-55024fd56f6b",
   "metadata": {},
   "outputs": [],
   "source": []
  },
  {
   "cell_type": "markdown",
   "id": "f9cee1f3-e039-456b-8c7b-6ac77de5e9b5",
   "metadata": {},
   "source": [
    "## Exploding cast columns"
   ]
  },
  {
   "cell_type": "code",
   "execution_count": 33,
   "id": "9748eab6-18a1-4360-b155-4fc90a1ead73",
   "metadata": {
    "tags": []
   },
   "outputs": [
    {
     "name": "stdout",
     "output_type": "stream",
     "text": [
      "(163026, 22)\n"
     ]
    }
   ],
   "source": [
    "df = pd.read_csv('../data/movies2013-2023.csv')\n",
    "print(df.shape)"
   ]
  },
  {
   "cell_type": "code",
   "execution_count": 34,
   "id": "e9844483-3c66-4a99-bd77-c7f135a55c90",
   "metadata": {
    "tags": []
   },
   "outputs": [],
   "source": [
    "import pandas as pd\n",
    "\n",
    "# Assuming df is your dataframe\n",
    "df['nconst'] = df['nconst'].str.split(';')\n",
    "df['category'] = df['category'].str.split(';')\n",
    "df['job'] = df['job'].str.split(';')\n",
    "\n",
    "\n",
    "# Create a new dataframe by exploding nconst, category, job\n",
    "df = df.apply(lambda x: x.explode() if x.name in ['nconst', 'category', 'job'] else x)\n",
    "\n",
    "df.reset_index(drop=True, inplace=True)\n",
    "\n",
    "df = df.drop(columns=['Unnamed: 0'])\n"
   ]
  },
  {
   "cell_type": "code",
   "execution_count": 35,
   "id": "cf3f44ed-96be-497a-b050-67010573020f",
   "metadata": {
    "tags": []
   },
   "outputs": [],
   "source": [
    "df.to_csv('../data/movies2013-2023_castexploded.csv')"
   ]
  },
  {
   "cell_type": "markdown",
   "id": "7023fc98-2f34-40fd-8a0a-fd723279d979",
   "metadata": {},
   "source": [
    "## Merging name_basics with castexploded df"
   ]
  },
  {
   "cell_type": "code",
   "execution_count": 36,
   "id": "f73a8f9c-d98f-4ac2-9f5a-72a4c8c10eeb",
   "metadata": {
    "tags": []
   },
   "outputs": [
    {
     "data": {
      "text/html": [
       "<div>\n",
       "<style scoped>\n",
       "    .dataframe tbody tr th:only-of-type {\n",
       "        vertical-align: middle;\n",
       "    }\n",
       "\n",
       "    .dataframe tbody tr th {\n",
       "        vertical-align: top;\n",
       "    }\n",
       "\n",
       "    .dataframe thead th {\n",
       "        text-align: right;\n",
       "    }\n",
       "</style>\n",
       "<table border=\"1\" class=\"dataframe\">\n",
       "  <thead>\n",
       "    <tr style=\"text-align: right;\">\n",
       "      <th></th>\n",
       "      <th>nconst</th>\n",
       "      <th>primaryName</th>\n",
       "      <th>primaryProfession</th>\n",
       "      <th>knownForTitles</th>\n",
       "    </tr>\n",
       "  </thead>\n",
       "  <tbody>\n",
       "    <tr>\n",
       "      <th>0</th>\n",
       "      <td>nm0000001</td>\n",
       "      <td>Fred Astaire</td>\n",
       "      <td>soundtrack,actor,miscellaneous</td>\n",
       "      <td>tt0072308,tt0045537,tt0050419,tt0053137</td>\n",
       "    </tr>\n",
       "    <tr>\n",
       "      <th>1</th>\n",
       "      <td>nm0000002</td>\n",
       "      <td>Lauren Bacall</td>\n",
       "      <td>actress,soundtrack</td>\n",
       "      <td>tt0037382,tt0075213,tt0117057,tt0038355</td>\n",
       "    </tr>\n",
       "    <tr>\n",
       "      <th>2</th>\n",
       "      <td>nm0000003</td>\n",
       "      <td>Brigitte Bardot</td>\n",
       "      <td>actress,soundtrack,music_department</td>\n",
       "      <td>tt0056404,tt0057345,tt0049189,tt0054452</td>\n",
       "    </tr>\n",
       "    <tr>\n",
       "      <th>3</th>\n",
       "      <td>nm0000004</td>\n",
       "      <td>John Belushi</td>\n",
       "      <td>actor,soundtrack,writer</td>\n",
       "      <td>tt0078723,tt0080455,tt0072562,tt0077975</td>\n",
       "    </tr>\n",
       "    <tr>\n",
       "      <th>4</th>\n",
       "      <td>nm0000005</td>\n",
       "      <td>Ingmar Bergman</td>\n",
       "      <td>writer,director,actor</td>\n",
       "      <td>tt0050986,tt0050976,tt0060827,tt0069467</td>\n",
       "    </tr>\n",
       "    <tr>\n",
       "      <th>...</th>\n",
       "      <td>...</td>\n",
       "      <td>...</td>\n",
       "      <td>...</td>\n",
       "      <td>...</td>\n",
       "    </tr>\n",
       "    <tr>\n",
       "      <th>12544681</th>\n",
       "      <td>nm9993714</td>\n",
       "      <td>Romeo del Rosario</td>\n",
       "      <td>animation_department,art_department</td>\n",
       "      <td>tt14069590,tt2455546,tt11657662</td>\n",
       "    </tr>\n",
       "    <tr>\n",
       "      <th>12544682</th>\n",
       "      <td>nm9993716</td>\n",
       "      <td>Essias Loberg</td>\n",
       "      <td>NaN</td>\n",
       "      <td>NaN</td>\n",
       "    </tr>\n",
       "    <tr>\n",
       "      <th>12544683</th>\n",
       "      <td>nm9993717</td>\n",
       "      <td>Harikrishnan Rajan</td>\n",
       "      <td>cinematographer</td>\n",
       "      <td>tt8736744</td>\n",
       "    </tr>\n",
       "    <tr>\n",
       "      <th>12544684</th>\n",
       "      <td>nm9993718</td>\n",
       "      <td>Aayush Nair</td>\n",
       "      <td>cinematographer</td>\n",
       "      <td>tt8736744</td>\n",
       "    </tr>\n",
       "    <tr>\n",
       "      <th>12544685</th>\n",
       "      <td>nm9993719</td>\n",
       "      <td>Andre Hill</td>\n",
       "      <td>NaN</td>\n",
       "      <td>NaN</td>\n",
       "    </tr>\n",
       "  </tbody>\n",
       "</table>\n",
       "<p>12544686 rows × 4 columns</p>\n",
       "</div>"
      ],
      "text/plain": [
       "             nconst         primaryName                    primaryProfession  \\\n",
       "0         nm0000001        Fred Astaire       soundtrack,actor,miscellaneous   \n",
       "1         nm0000002       Lauren Bacall                   actress,soundtrack   \n",
       "2         nm0000003     Brigitte Bardot  actress,soundtrack,music_department   \n",
       "3         nm0000004        John Belushi              actor,soundtrack,writer   \n",
       "4         nm0000005      Ingmar Bergman                writer,director,actor   \n",
       "...             ...                 ...                                  ...   \n",
       "12544681  nm9993714   Romeo del Rosario  animation_department,art_department   \n",
       "12544682  nm9993716       Essias Loberg                                  NaN   \n",
       "12544683  nm9993717  Harikrishnan Rajan                      cinematographer   \n",
       "12544684  nm9993718         Aayush Nair                      cinematographer   \n",
       "12544685  nm9993719          Andre Hill                                  NaN   \n",
       "\n",
       "                                   knownForTitles  \n",
       "0         tt0072308,tt0045537,tt0050419,tt0053137  \n",
       "1         tt0037382,tt0075213,tt0117057,tt0038355  \n",
       "2         tt0056404,tt0057345,tt0049189,tt0054452  \n",
       "3         tt0078723,tt0080455,tt0072562,tt0077975  \n",
       "4         tt0050986,tt0050976,tt0060827,tt0069467  \n",
       "...                                           ...  \n",
       "12544681          tt14069590,tt2455546,tt11657662  \n",
       "12544682                                      NaN  \n",
       "12544683                                tt8736744  \n",
       "12544684                                tt8736744  \n",
       "12544685                                      NaN  \n",
       "\n",
       "[12544686 rows x 4 columns]"
      ]
     },
     "execution_count": 36,
     "metadata": {},
     "output_type": "execute_result"
    }
   ],
   "source": [
    "name_basics = pd.read_csv('../data/name_basics_cleaned.csv').drop(columns=['Unnamed: 0'])\n",
    "name_basics"
   ]
  },
  {
   "cell_type": "code",
   "execution_count": 39,
   "id": "3c15d2d6-a1da-472b-9e6b-0ca32c627e86",
   "metadata": {
    "tags": []
   },
   "outputs": [
    {
     "name": "stdout",
     "output_type": "stream",
     "text": [
      "df shape before merge: (1198173, 21)\n",
      "df shape after merge: (1198173, 24)\n"
     ]
    }
   ],
   "source": [
    "print(f\"df shape before merge: {df.shape}\")\n",
    "df = df.merge(name_basics, how='left', on='nconst')\n",
    "print(f\"df shape after merge: {df.shape}\")"
   ]
  },
  {
   "cell_type": "code",
   "execution_count": 40,
   "id": "68c75c7f-013d-474f-90e4-3922fbf513af",
   "metadata": {
    "tags": []
   },
   "outputs": [],
   "source": [
    "df.to_csv('../data/movies2013-2023_castexploded_mergedcastname.csv')"
   ]
  },
  {
   "cell_type": "code",
   "execution_count": null,
   "id": "7ca8d5d6-34d9-4a8c-ba40-69982566e8d7",
   "metadata": {},
   "outputs": [],
   "source": []
  }
 ],
 "metadata": {
  "kernelspec": {
   "display_name": "Python 3 (ipykernel)",
   "language": "python",
   "name": "python3"
  },
  "language_info": {
   "codemirror_mode": {
    "name": "ipython",
    "version": 3
   },
   "file_extension": ".py",
   "mimetype": "text/x-python",
   "name": "python",
   "nbconvert_exporter": "python",
   "pygments_lexer": "ipython3",
   "version": "3.9.12"
  }
 },
 "nbformat": 4,
 "nbformat_minor": 5
}
